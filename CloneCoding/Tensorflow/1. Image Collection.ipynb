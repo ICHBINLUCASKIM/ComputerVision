{
 "cells": [
  {
   "cell_type": "markdown",
   "metadata": {},
   "source": [
    "# 1. Import Dependencies"
   ]
  },
  {
   "cell_type": "code",
   "execution_count": 1,
   "metadata": {},
   "outputs": [
    {
     "name": "stdout",
     "output_type": "stream",
     "text": [
      "Collecting opencv-python\n",
      "  Downloading opencv_python-4.8.0.74-cp37-abi3-macosx_10_16_x86_64.whl (54.6 MB)\n",
      "\u001b[2K     \u001b[90m━━━━━━━━━━━━━━━━━━━━━━━━━━━━━━━━━━━━━━━━\u001b[0m \u001b[32m54.6/54.6 MB\u001b[0m \u001b[31m23.3 MB/s\u001b[0m eta \u001b[36m0:00:00\u001b[0m00:01\u001b[0m00:01\u001b[0m\n",
      "\u001b[?25hRequirement already satisfied: numpy>=1.17.0 in /Users/lucasmac/opt/anaconda3/lib/python3.9/site-packages (from opencv-python) (1.23.5)\n",
      "Installing collected packages: opencv-python\n",
      "Successfully installed opencv-python-4.8.0.74\n"
     ]
    }
   ],
   "source": [
    "!pip install opencv-python"
   ]
  },
  {
   "cell_type": "code",
   "execution_count": 2,
   "metadata": {},
   "outputs": [],
   "source": [
    "# Import opencv\n",
    "import cv2 \n",
    "\n",
    "# Import uuid\n",
    "import uuid\n",
    "\n",
    "# Import Operating System\n",
    "import os\n",
    "\n",
    "# Import time\n",
    "import time"
   ]
  },
  {
   "cell_type": "markdown",
   "metadata": {},
   "source": [
    "# 2. Define Images to Collect"
   ]
  },
  {
   "cell_type": "code",
   "execution_count": 23,
   "metadata": {},
   "outputs": [],
   "source": [
    "labels = ['thumbsup', 'thumbsdown', 'thankyou', 'livelong']\n",
    "number_imgs = 2"
   ]
  },
  {
   "cell_type": "markdown",
   "metadata": {},
   "source": [
    "# 3. Setup Folders "
   ]
  },
  {
   "cell_type": "code",
   "execution_count": 7,
   "metadata": {},
   "outputs": [],
   "source": [
    "IMAGES_PATH = os.path.join('Tensorflow', 'workspace', 'images', 'test')"
   ]
  },
  {
   "cell_type": "code",
   "execution_count": 24,
   "metadata": {},
   "outputs": [
    {
     "data": {
      "text/plain": [
       "'posix'"
      ]
     },
     "execution_count": 24,
     "metadata": {},
     "output_type": "execute_result"
    }
   ],
   "source": [
    "os.name"
   ]
  },
  {
   "cell_type": "code",
   "execution_count": 25,
   "metadata": {},
   "outputs": [],
   "source": [
    "if not os.path.exists(IMAGES_PATH):\n",
    "    if os.name == 'posix':\n",
    "        !mkdir -p {IMAGES_PATH}\n",
    "    if os.name == 'nt':\n",
    "         !mkdir {IMAGES_PATH}\n",
    "for label in labels:\n",
    "    path = os.path.join(IMAGES_PATH, label)\n",
    "    if not os.path.exists(path):\n",
    "        !mkdir {path}"
   ]
  },
  {
   "cell_type": "markdown",
   "metadata": {},
   "source": [
    "# 4. Capture Images"
   ]
  },
  {
   "cell_type": "code",
   "execution_count": 26,
   "metadata": {},
   "outputs": [
    {
     "name": "stdout",
     "output_type": "stream",
     "text": [
      "Collecting images for thumbsup\n",
      "Collecting image 0\n",
      "Collecting image 1\n",
      "Collecting images for thumbsdown\n",
      "Collecting image 0\n",
      "Collecting image 1\n",
      "Collecting images for thankyou\n",
      "Collecting image 0\n",
      "Collecting image 1\n",
      "Collecting images for livelong\n",
      "Collecting image 0\n",
      "Collecting image 1\n"
     ]
    }
   ],
   "source": [
    "for label in labels:\n",
    "    cap = cv2.VideoCapture(0) # Connects to our webcam or capture device\n",
    "    print('Collecting images for {}'.format(label))\n",
    "    time.sleep(3)\n",
    "    for imgnum in range(number_imgs):\n",
    "        print('Collecting image {}'.format(imgnum))\n",
    "        ret, frame = cap.read()\n",
    "        imgname = os.path.join(IMAGES_PATH,label,label+'.'+'{}.jpg'.format(str(uuid.uuid1())))\n",
    "        cv2.imwrite(imgname, frame)\n",
    "#         cv2.imshow('frame', frame)\n",
    "        time.sleep(3)\n",
    "\n",
    "        if cv2.waitKey(1) & 0xFF == ord('q'):\n",
    "            break\n",
    "cap.release()\n",
    "cv2.destroyAllWindows()"
   ]
  },
  {
   "cell_type": "markdown",
   "metadata": {},
   "source": [
    "# 5. Image Labelling"
   ]
  },
  {
   "cell_type": "code",
   "execution_count": 14,
   "metadata": {},
   "outputs": [
    {
     "name": "stdout",
     "output_type": "stream",
     "text": [
      "Collecting pyqt5\n",
      "  Downloading PyQt5-5.15.9-cp37-abi3-macosx_10_13_x86_64.whl (7.0 MB)\n",
      "\u001b[2K     \u001b[90m━━━━━━━━━━━━━━━━━━━━━━━━━━━━━━━━━━━━━━━━\u001b[0m \u001b[32m7.0/7.0 MB\u001b[0m \u001b[31m12.9 MB/s\u001b[0m eta \u001b[36m0:00:00\u001b[0m00:01\u001b[0m00:01\u001b[0m\n",
      "\u001b[?25hRequirement already satisfied: lxml in /Users/lucasmac/opt/anaconda3/lib/python3.9/site-packages (4.9.1)\n",
      "Collecting lxml\n",
      "  Downloading lxml-4.9.3.tar.gz (3.6 MB)\n",
      "\u001b[2K     \u001b[90m━━━━━━━━━━━━━━━━━━━━━━━━━━━━━━━━━━━━━━━━\u001b[0m \u001b[32m3.6/3.6 MB\u001b[0m \u001b[31m31.0 MB/s\u001b[0m eta \u001b[36m0:00:00\u001b[0m00:01\u001b[0m00:01\u001b[0m\n",
      "\u001b[?25h  Preparing metadata (setup.py) ... \u001b[?25ldone\n",
      "\u001b[?25hRequirement already satisfied: PyQt5-sip<13,>=12.11 in /Users/lucasmac/opt/anaconda3/lib/python3.9/site-packages (from pyqt5) (12.11.0)\n",
      "Collecting PyQt5-Qt5>=5.15.2 (from pyqt5)\n",
      "  Downloading PyQt5_Qt5-5.15.2-py3-none-macosx_10_13_intel.whl (40.5 MB)\n",
      "\u001b[2K     \u001b[90m━━━━━━━━━━━━━━━━━━━━━━━━━━━━━━━━━━━━━━━━\u001b[0m \u001b[32m40.5/40.5 MB\u001b[0m \u001b[31m25.6 MB/s\u001b[0m eta \u001b[36m0:00:00\u001b[0m00:01\u001b[0m00:01\u001b[0m\n",
      "\u001b[?25hBuilding wheels for collected packages: lxml\n",
      "  Building wheel for lxml (setup.py) ... \u001b[?25ldone\n",
      "\u001b[?25h  Created wheel for lxml: filename=lxml-4.9.3-cp39-cp39-macosx_10_9_x86_64.whl size=1631614 sha256=d85d03602093ccfbf1ad725428b4ebd36926a841e60ab3af6e40c758dd3b1c67\n",
      "  Stored in directory: /Users/lucasmac/Library/Caches/pip/wheels/5c/05/aa/530f84480d476c5bb9ea09877eea78fb144ec047fbb00ee2ca\n",
      "Successfully built lxml\n",
      "Installing collected packages: PyQt5-Qt5, pyqt5, lxml\n",
      "  Attempting uninstall: lxml\n",
      "    Found existing installation: lxml 4.9.1\n",
      "    Uninstalling lxml-4.9.1:\n",
      "      Successfully uninstalled lxml-4.9.1\n",
      "Successfully installed PyQt5-Qt5-5.15.2 lxml-4.9.3 pyqt5-5.15.9\n"
     ]
    }
   ],
   "source": [
    "!pip install --upgrade pyqt5 lxml"
   ]
  },
  {
   "cell_type": "code",
   "execution_count": 15,
   "metadata": {},
   "outputs": [],
   "source": [
    "LABELIMG_PATH = os.path.join('Tensorflow', 'labelimg')"
   ]
  },
  {
   "cell_type": "code",
   "execution_count": 16,
   "metadata": {},
   "outputs": [
    {
     "name": "stdout",
     "output_type": "stream",
     "text": [
      "Cloning into 'Tensorflow/labelimg'...\n",
      "remote: Enumerating objects: 2097, done.\u001b[K\n",
      "remote: Counting objects: 100% (7/7), done.\u001b[K\n",
      "remote: Compressing objects: 100% (7/7), done.\u001b[K\n",
      "remote: Total 2097 (delta 0), reused 4 (delta 0), pack-reused 2090\u001b[K\n",
      "Receiving objects: 100% (2097/2097), 237.14 MiB | 21.64 MiB/s, done.\n",
      "Resolving deltas: 100% (1242/1242), done.\n"
     ]
    }
   ],
   "source": [
    "if not os.path.exists(LABELIMG_PATH):\n",
    "    !mkdir {LABELIMG_PATH}\n",
    "    !git clone https://github.com/tzutalin/labelImg {LABELIMG_PATH}"
   ]
  },
  {
   "cell_type": "code",
   "execution_count": 17,
   "metadata": {},
   "outputs": [
    {
     "data": {
      "text/plain": [
       "'Tensorflow/labelimg'"
      ]
     },
     "execution_count": 17,
     "metadata": {},
     "output_type": "execute_result"
    }
   ],
   "source": [
    "LABELIMG_PATH"
   ]
  },
  {
   "cell_type": "code",
   "execution_count": 20,
   "metadata": {},
   "outputs": [
    {
     "name": "stdout",
     "output_type": "stream",
     "text": [
      "pyrcc5 -o libs/resources.py resources.qrc\r\n"
     ]
    }
   ],
   "source": [
    "if os.name == 'posix':\n",
    "    !cd {LABELIMG_PATH} && make qt5py3\n",
    "if os.name =='nt':\n",
    "    !cd {LABELIMG_PATH} && pyrcc5 -o libs/resources.py resources.qrc"
   ]
  },
  {
   "cell_type": "code",
   "execution_count": 21,
   "metadata": {},
   "outputs": [
    {
     "name": "stdout",
     "output_type": "stream",
     "text": [
      "2023-07-31 14:08:16.401 python[36692:2915511] +[CATransaction synchronize] called within transaction\n",
      "2023-07-31 14:08:16.793 python[36692:2915511] +[CATransaction synchronize] called within transaction\n",
      "2023-07-31 14:08:21.482 python[36692:2915511] +[CATransaction synchronize] called within transaction\n",
      "2023-07-31 14:08:24.034 python[36692:2915511] +[CATransaction synchronize] called within transaction\n",
      "2023-07-31 14:08:39.634 python[36692:2915511] +[CATransaction synchronize] called within transaction\n",
      "2023-07-31 14:08:43.916 python[36692:2915511] +[CATransaction synchronize] called within transaction\n",
      "2023-07-31 14:09:29.470 python[36692:2915511] TSM AdjustCapsLockLEDForKeyTransitionHandling - _ISSetPhysicalKeyboardCapsLockLED Inhibit\n",
      "Image:/Users/lucasmac/Documents/CV_Project/TFODCourse/Tensorflow/workspace/images/collectedimages/livelong/livelong.0ad96268-2f5f-11ee-9afd-868fae1741ad.jpg -> Annotation:/Users/lucasmac/Documents/CV_Project/TFODCourse/Tensorflow/workspace/images/collectedimages/livelong/livelong.0ad96268-2f5f-11ee-9afd-868fae1741ad.xml\n",
      "Image:/Users/lucasmac/Documents/CV_Project/TFODCourse/Tensorflow/workspace/images/collectedimages/livelong/livelong.0c14965c-2f5f-11ee-9afd-868fae1741ad.jpg -> Annotation:/Users/lucasmac/Documents/CV_Project/TFODCourse/Tensorflow/workspace/images/collectedimages/livelong/livelong.0c14965c-2f5f-11ee-9afd-868fae1741ad.xml\n",
      "Image:/Users/lucasmac/Documents/CV_Project/TFODCourse/Tensorflow/workspace/images/collectedimages/livelong/livelong.0d4fd43c-2f5f-11ee-9afd-868fae1741ad.jpg -> Annotation:/Users/lucasmac/Documents/CV_Project/TFODCourse/Tensorflow/workspace/images/collectedimages/livelong/livelong.0d4fd43c-2f5f-11ee-9afd-868fae1741ad.xml\n",
      "Image:/Users/lucasmac/Documents/CV_Project/TFODCourse/Tensorflow/workspace/images/collectedimages/livelong/livelong.099e34dc-2f5f-11ee-9afd-868fae1741ad.jpg -> Annotation:/Users/lucasmac/Documents/CV_Project/TFODCourse/Tensorflow/workspace/images/collectedimages/livelong/livelong.099e34dc-2f5f-11ee-9afd-868fae1741ad.xml\n",
      "Image:/Users/lucasmac/Documents/CV_Project/TFODCourse/Tensorflow/workspace/images/collectedimages/livelong/livelong.08632820-2f5f-11ee-9afd-868fae1741ad.jpg -> Annotation:/Users/lucasmac/Documents/CV_Project/TFODCourse/Tensorflow/workspace/images/collectedimages/livelong/livelong.08632820-2f5f-11ee-9afd-868fae1741ad.xml\n",
      "2023-07-31 14:21:08.124 python[36692:2915511] +[CATransaction synchronize] called within transaction\n",
      "2023-07-31 14:21:08.191 python[36692:2915511] +[CATransaction synchronize] called within transaction\n",
      "2023-07-31 14:21:31.319 python[36692:2915511] +[CATransaction synchronize] called within transaction\n",
      "2023-07-31 14:21:31.368 python[36692:2915511] +[CATransaction synchronize] called within transaction\n",
      "2023-07-31 14:21:44.938 python[36692:2915511] +[CATransaction synchronize] called within transaction\n",
      "2023-07-31 14:21:44.987 python[36692:2915511] +[CATransaction synchronize] called within transaction\n",
      "Image:/Users/lucasmac/Documents/CV_Project/TFODCourse/Tensorflow/workspace/images/collectedimages/thankyou/thankyou.01ac7c20-2f5f-11ee-9afd-868fae1741ad.jpg -> Annotation:/Users/lucasmac/Documents/CV_Project/TFODCourse/Tensorflow/workspace/images/collectedimages/thankyou/thankyou.01ac7c20-2f5f-11ee-9afd-868fae1741ad.xml\n",
      "Image:/Users/lucasmac/Documents/CV_Project/TFODCourse/Tensorflow/workspace/images/collectedimages/thankyou/thankyou.02e7d0a8-2f5f-11ee-9afd-868fae1741ad.jpg -> Annotation:/Users/lucasmac/Documents/CV_Project/TFODCourse/Tensorflow/workspace/images/collectedimages/thankyou/thankyou.02e7d0a8-2f5f-11ee-9afd-868fae1741ad.xml\n",
      "Image:/Users/lucasmac/Documents/CV_Project/TFODCourse/Tensorflow/workspace/images/collectedimages/thankyou/thankyou.0422ef48-2f5f-11ee-9afd-868fae1741ad.jpg -> Annotation:/Users/lucasmac/Documents/CV_Project/TFODCourse/Tensorflow/workspace/images/collectedimages/thankyou/thankyou.0422ef48-2f5f-11ee-9afd-868fae1741ad.xml\n",
      "Cancel creation.\n",
      "Image:/Users/lucasmac/Documents/CV_Project/TFODCourse/Tensorflow/workspace/images/collectedimages/thankyou/thankyou.00713e22-2f5f-11ee-9afd-868fae1741ad.jpg -> Annotation:/Users/lucasmac/Documents/CV_Project/TFODCourse/Tensorflow/workspace/images/collectedimages/thankyou/thankyou.00713e22-2f5f-11ee-9afd-868fae1741ad.xml\n",
      "Image:/Users/lucasmac/Documents/CV_Project/TFODCourse/Tensorflow/workspace/images/collectedimages/thankyou/thankyou.ff3631de-2f5e-11ee-9afd-868fae1741ad.jpg -> Annotation:/Users/lucasmac/Documents/CV_Project/TFODCourse/Tensorflow/workspace/images/collectedimages/thankyou/thankyou.ff3631de-2f5e-11ee-9afd-868fae1741ad.xml\n",
      "2023-07-31 14:23:10.099 python[36692:2915511] +[CATransaction synchronize] called within transaction\n",
      "2023-07-31 14:23:10.158 python[36692:2915511] +[CATransaction synchronize] called within transaction\n",
      "Image:/Users/lucasmac/Documents/CV_Project/TFODCourse/Tensorflow/workspace/images/collectedimages/thumbsdown/thumbsdown.f9b54b28-2f5e-11ee-9afd-868fae1741ad.jpg -> Annotation:/Users/lucasmac/Documents/CV_Project/TFODCourse/Tensorflow/workspace/images/collectedimages/thumbsdown/thumbsdown.f9b54b28-2f5e-11ee-9afd-868fae1741ad.xml\n",
      "Image:/Users/lucasmac/Documents/CV_Project/TFODCourse/Tensorflow/workspace/images/collectedimages/thumbsdown/thumbsdown.f73f497a-2f5e-11ee-9afd-868fae1741ad.jpg -> Annotation:/Users/lucasmac/Documents/CV_Project/TFODCourse/Tensorflow/workspace/images/collectedimages/thumbsdown/thumbsdown.f73f497a-2f5e-11ee-9afd-868fae1741ad.xml\n",
      "Image:/Users/lucasmac/Documents/CV_Project/TFODCourse/Tensorflow/workspace/images/collectedimages/thumbsdown/thumbsdown.f87a85de-2f5e-11ee-9afd-868fae1741ad.jpg -> Annotation:/Users/lucasmac/Documents/CV_Project/TFODCourse/Tensorflow/workspace/images/collectedimages/thumbsdown/thumbsdown.f87a85de-2f5e-11ee-9afd-868fae1741ad.xml\n",
      "Image:/Users/lucasmac/Documents/CV_Project/TFODCourse/Tensorflow/workspace/images/collectedimages/thumbsdown/thumbsdown.f604401a-2f5e-11ee-9afd-868fae1741ad.jpg -> Annotation:/Users/lucasmac/Documents/CV_Project/TFODCourse/Tensorflow/workspace/images/collectedimages/thumbsdown/thumbsdown.f604401a-2f5e-11ee-9afd-868fae1741ad.xml\n",
      "Image:/Users/lucasmac/Documents/CV_Project/TFODCourse/Tensorflow/workspace/images/collectedimages/thumbsdown/thumbsdown.faf0efba-2f5e-11ee-9afd-868fae1741ad.jpg -> Annotation:/Users/lucasmac/Documents/CV_Project/TFODCourse/Tensorflow/workspace/images/collectedimages/thumbsdown/thumbsdown.faf0efba-2f5e-11ee-9afd-868fae1741ad.xml\n",
      "2023-07-31 14:24:19.057 python[36692:2915511] +[CATransaction synchronize] called within transaction\n",
      "2023-07-31 14:24:19.122 python[36692:2915511] +[CATransaction synchronize] called within transaction\n",
      "Image:/Users/lucasmac/Documents/CV_Project/TFODCourse/Tensorflow/workspace/images/collectedimages/thumbsup/thumbsup.ecd7b90e-2f5e-11ee-9afd-868fae1741ad.jpg -> Annotation:/Users/lucasmac/Documents/CV_Project/TFODCourse/Tensorflow/workspace/images/collectedimages/thumbsup/thumbsup.ecd7b90e-2f5e-11ee-9afd-868fae1741ad.xml\n",
      "Image:/Users/lucasmac/Documents/CV_Project/TFODCourse/Tensorflow/workspace/images/collectedimages/thumbsup/thumbsup.ee127e26-2f5e-11ee-9afd-868fae1741ad.jpg -> Annotation:/Users/lucasmac/Documents/CV_Project/TFODCourse/Tensorflow/workspace/images/collectedimages/thumbsup/thumbsup.ee127e26-2f5e-11ee-9afd-868fae1741ad.xml\n",
      "Image:/Users/lucasmac/Documents/CV_Project/TFODCourse/Tensorflow/workspace/images/collectedimages/thumbsup/thumbsup.ef4df072-2f5e-11ee-9afd-868fae1741ad.jpg -> Annotation:/Users/lucasmac/Documents/CV_Project/TFODCourse/Tensorflow/workspace/images/collectedimages/thumbsup/thumbsup.ef4df072-2f5e-11ee-9afd-868fae1741ad.xml\n",
      "Image:/Users/lucasmac/Documents/CV_Project/TFODCourse/Tensorflow/workspace/images/collectedimages/thumbsup/thumbsup.f1c45df0-2f5e-11ee-9afd-868fae1741ad.jpg -> Annotation:/Users/lucasmac/Documents/CV_Project/TFODCourse/Tensorflow/workspace/images/collectedimages/thumbsup/thumbsup.f1c45df0-2f5e-11ee-9afd-868fae1741ad.xml\n",
      "Image:/Users/lucasmac/Documents/CV_Project/TFODCourse/Tensorflow/workspace/images/collectedimages/thumbsup/thumbsup.f088eb7c-2f5e-11ee-9afd-868fae1741ad.jpg -> Annotation:/Users/lucasmac/Documents/CV_Project/TFODCourse/Tensorflow/workspace/images/collectedimages/thumbsup/thumbsup.f088eb7c-2f5e-11ee-9afd-868fae1741ad.xml\n"
     ]
    }
   ],
   "source": [
    "!cd {LABELIMG_PATH} && python labelImg.py"
   ]
  },
  {
   "cell_type": "markdown",
   "metadata": {},
   "source": [
    "# 6. Move them into a Training and Testing Partition"
   ]
  },
  {
   "cell_type": "markdown",
   "metadata": {},
   "source": [
    "# OPTIONAL - 7. Compress them for Colab Training"
   ]
  },
  {
   "cell_type": "code",
   "execution_count": 20,
   "metadata": {},
   "outputs": [],
   "source": [
    "TRAIN_PATH = os.path.join('Tensorflow', 'workspace', 'images', 'train')\n",
    "TEST_PATH = os.path.join('Tensorflow', 'workspace', 'images', 'test')\n",
    "ARCHIVE_PATH = os.path.join('Tensorflow', 'workspace', 'images', 'archive.tar.gz')"
   ]
  },
  {
   "cell_type": "code",
   "execution_count": 21,
   "metadata": {},
   "outputs": [],
   "source": [
    "!tar -czf {ARCHIVE_PATH} {TRAIN_PATH} {TEST_PATH}"
   ]
  },
  {
   "cell_type": "code",
   "execution_count": null,
   "metadata": {},
   "outputs": [],
   "source": []
  }
 ],
 "metadata": {
  "kernelspec": {
   "display_name": "Python 3 (ipykernel)",
   "language": "python",
   "name": "python3"
  },
  "language_info": {
   "codemirror_mode": {
    "name": "ipython",
    "version": 3
   },
   "file_extension": ".py",
   "mimetype": "text/x-python",
   "name": "python",
   "nbconvert_exporter": "python",
   "pygments_lexer": "ipython3",
   "version": "3.7.16"
  }
 },
 "nbformat": 4,
 "nbformat_minor": 2
}
